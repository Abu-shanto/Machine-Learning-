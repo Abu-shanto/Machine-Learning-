{
  "cells": [
    {
      "cell_type": "markdown",
      "metadata": {
        "id": "view-in-github",
        "colab_type": "text"
      },
      "source": [
        "<a href=\"https://colab.research.google.com/github/Abu-shanto/Machine-Learning-/blob/main/Sugar_cane_Disease.ipynb\" target=\"_parent\"><img src=\"https://colab.research.google.com/assets/colab-badge.svg\" alt=\"Open In Colab\"/></a>"
      ]
    },
    {
      "cell_type": "code",
      "execution_count": null,
      "metadata": {
        "colab": {
          "base_uri": "https://localhost:8080/",
          "height": 338
        },
        "id": "99qbC9NpUwQQ",
        "outputId": "c6297886-4422-4c0b-bf4e-b5393b7563b5"
      },
      "outputs": [
        {
          "output_type": "error",
          "ename": "MessageError",
          "evalue": "ignored",
          "traceback": [
            "\u001b[0;31m---------------------------------------------------------------------------\u001b[0m",
            "\u001b[0;31mMessageError\u001b[0m                              Traceback (most recent call last)",
            "\u001b[0;32m<ipython-input-1-91874b305a32>\u001b[0m in \u001b[0;36m<cell line: 2>\u001b[0;34m()\u001b[0m\n\u001b[1;32m      1\u001b[0m \u001b[0;32mfrom\u001b[0m \u001b[0mgoogle\u001b[0m\u001b[0;34m.\u001b[0m\u001b[0mcolab\u001b[0m \u001b[0;32mimport\u001b[0m \u001b[0mdrive\u001b[0m\u001b[0;34m\u001b[0m\u001b[0;34m\u001b[0m\u001b[0m\n\u001b[0;32m----> 2\u001b[0;31m \u001b[0mdrive\u001b[0m\u001b[0;34m.\u001b[0m\u001b[0mmount\u001b[0m\u001b[0;34m(\u001b[0m\u001b[0;34m'/content/drive/'\u001b[0m\u001b[0;34m)\u001b[0m\u001b[0;34m\u001b[0m\u001b[0;34m\u001b[0m\u001b[0m\n\u001b[0m",
            "\u001b[0;32m/usr/local/lib/python3.10/dist-packages/google/colab/drive.py\u001b[0m in \u001b[0;36mmount\u001b[0;34m(mountpoint, force_remount, timeout_ms, readonly)\u001b[0m\n\u001b[1;32m     98\u001b[0m \u001b[0;32mdef\u001b[0m \u001b[0mmount\u001b[0m\u001b[0;34m(\u001b[0m\u001b[0mmountpoint\u001b[0m\u001b[0;34m,\u001b[0m \u001b[0mforce_remount\u001b[0m\u001b[0;34m=\u001b[0m\u001b[0;32mFalse\u001b[0m\u001b[0;34m,\u001b[0m \u001b[0mtimeout_ms\u001b[0m\u001b[0;34m=\u001b[0m\u001b[0;36m120000\u001b[0m\u001b[0;34m,\u001b[0m \u001b[0mreadonly\u001b[0m\u001b[0;34m=\u001b[0m\u001b[0;32mFalse\u001b[0m\u001b[0;34m)\u001b[0m\u001b[0;34m:\u001b[0m\u001b[0;34m\u001b[0m\u001b[0;34m\u001b[0m\u001b[0m\n\u001b[1;32m     99\u001b[0m   \u001b[0;34m\"\"\"Mount your Google Drive at the specified mountpoint path.\"\"\"\u001b[0m\u001b[0;34m\u001b[0m\u001b[0;34m\u001b[0m\u001b[0m\n\u001b[0;32m--> 100\u001b[0;31m   return _mount(\n\u001b[0m\u001b[1;32m    101\u001b[0m       \u001b[0mmountpoint\u001b[0m\u001b[0;34m,\u001b[0m\u001b[0;34m\u001b[0m\u001b[0;34m\u001b[0m\u001b[0m\n\u001b[1;32m    102\u001b[0m       \u001b[0mforce_remount\u001b[0m\u001b[0;34m=\u001b[0m\u001b[0mforce_remount\u001b[0m\u001b[0;34m,\u001b[0m\u001b[0;34m\u001b[0m\u001b[0;34m\u001b[0m\u001b[0m\n",
            "\u001b[0;32m/usr/local/lib/python3.10/dist-packages/google/colab/drive.py\u001b[0m in \u001b[0;36m_mount\u001b[0;34m(mountpoint, force_remount, timeout_ms, ephemeral, readonly)\u001b[0m\n\u001b[1;32m    127\u001b[0m   )\n\u001b[1;32m    128\u001b[0m   \u001b[0;32mif\u001b[0m \u001b[0mephemeral\u001b[0m\u001b[0;34m:\u001b[0m\u001b[0;34m\u001b[0m\u001b[0;34m\u001b[0m\u001b[0m\n\u001b[0;32m--> 129\u001b[0;31m     _message.blocking_request(\n\u001b[0m\u001b[1;32m    130\u001b[0m         \u001b[0;34m'request_auth'\u001b[0m\u001b[0;34m,\u001b[0m \u001b[0mrequest\u001b[0m\u001b[0;34m=\u001b[0m\u001b[0;34m{\u001b[0m\u001b[0;34m'authType'\u001b[0m\u001b[0;34m:\u001b[0m \u001b[0;34m'dfs_ephemeral'\u001b[0m\u001b[0;34m}\u001b[0m\u001b[0;34m,\u001b[0m \u001b[0mtimeout_sec\u001b[0m\u001b[0;34m=\u001b[0m\u001b[0;32mNone\u001b[0m\u001b[0;34m\u001b[0m\u001b[0;34m\u001b[0m\u001b[0m\n\u001b[1;32m    131\u001b[0m     )\n",
            "\u001b[0;32m/usr/local/lib/python3.10/dist-packages/google/colab/_message.py\u001b[0m in \u001b[0;36mblocking_request\u001b[0;34m(request_type, request, timeout_sec, parent)\u001b[0m\n\u001b[1;32m    174\u001b[0m       \u001b[0mrequest_type\u001b[0m\u001b[0;34m,\u001b[0m \u001b[0mrequest\u001b[0m\u001b[0;34m,\u001b[0m \u001b[0mparent\u001b[0m\u001b[0;34m=\u001b[0m\u001b[0mparent\u001b[0m\u001b[0;34m,\u001b[0m \u001b[0mexpect_reply\u001b[0m\u001b[0;34m=\u001b[0m\u001b[0;32mTrue\u001b[0m\u001b[0;34m\u001b[0m\u001b[0;34m\u001b[0m\u001b[0m\n\u001b[1;32m    175\u001b[0m   )\n\u001b[0;32m--> 176\u001b[0;31m   \u001b[0;32mreturn\u001b[0m \u001b[0mread_reply_from_input\u001b[0m\u001b[0;34m(\u001b[0m\u001b[0mrequest_id\u001b[0m\u001b[0;34m,\u001b[0m \u001b[0mtimeout_sec\u001b[0m\u001b[0;34m)\u001b[0m\u001b[0;34m\u001b[0m\u001b[0;34m\u001b[0m\u001b[0m\n\u001b[0m",
            "\u001b[0;32m/usr/local/lib/python3.10/dist-packages/google/colab/_message.py\u001b[0m in \u001b[0;36mread_reply_from_input\u001b[0;34m(message_id, timeout_sec)\u001b[0m\n\u001b[1;32m    101\u001b[0m     ):\n\u001b[1;32m    102\u001b[0m       \u001b[0;32mif\u001b[0m \u001b[0;34m'error'\u001b[0m \u001b[0;32min\u001b[0m \u001b[0mreply\u001b[0m\u001b[0;34m:\u001b[0m\u001b[0;34m\u001b[0m\u001b[0;34m\u001b[0m\u001b[0m\n\u001b[0;32m--> 103\u001b[0;31m         \u001b[0;32mraise\u001b[0m \u001b[0mMessageError\u001b[0m\u001b[0;34m(\u001b[0m\u001b[0mreply\u001b[0m\u001b[0;34m[\u001b[0m\u001b[0;34m'error'\u001b[0m\u001b[0;34m]\u001b[0m\u001b[0;34m)\u001b[0m\u001b[0;34m\u001b[0m\u001b[0;34m\u001b[0m\u001b[0m\n\u001b[0m\u001b[1;32m    104\u001b[0m       \u001b[0;32mreturn\u001b[0m \u001b[0mreply\u001b[0m\u001b[0;34m.\u001b[0m\u001b[0mget\u001b[0m\u001b[0;34m(\u001b[0m\u001b[0;34m'data'\u001b[0m\u001b[0;34m,\u001b[0m \u001b[0;32mNone\u001b[0m\u001b[0;34m)\u001b[0m\u001b[0;34m\u001b[0m\u001b[0;34m\u001b[0m\u001b[0m\n\u001b[1;32m    105\u001b[0m \u001b[0;34m\u001b[0m\u001b[0m\n",
            "\u001b[0;31mMessageError\u001b[0m: Error: credential propagation was unsuccessful"
          ]
        }
      ],
      "source": [
        "from google.colab import drive\n",
        "drive.mount('/content/drive/')"
      ]
    },
    {
      "cell_type": "code",
      "execution_count": null,
      "metadata": {
        "id": "MwDKYy5TU8Qr",
        "colab": {
          "base_uri": "https://localhost:8080/",
          "height": 245
        },
        "outputId": "1fb731a5-23ee-44bd-973c-4790629afb33"
      },
      "outputs": [
        {
          "output_type": "error",
          "ename": "FileNotFoundError",
          "evalue": "ignored",
          "traceback": [
            "\u001b[0;31m---------------------------------------------------------------------------\u001b[0m",
            "\u001b[0;31mFileNotFoundError\u001b[0m                         Traceback (most recent call last)",
            "\u001b[0;32m<ipython-input-4-e44e991ad8ee>\u001b[0m in \u001b[0;36m<cell line: 17>\u001b[0;34m()\u001b[0m\n\u001b[1;32m     20\u001b[0m \u001b[0;34m\u001b[0m\u001b[0m\n\u001b[1;32m     21\u001b[0m     \u001b[0;31m# Loop through images in the class folder\u001b[0m\u001b[0;34m\u001b[0m\u001b[0;34m\u001b[0m\u001b[0m\n\u001b[0;32m---> 22\u001b[0;31m     \u001b[0;32mfor\u001b[0m \u001b[0mimg_name\u001b[0m \u001b[0;32min\u001b[0m \u001b[0mos\u001b[0m\u001b[0;34m.\u001b[0m\u001b[0mlistdir\u001b[0m\u001b[0;34m(\u001b[0m\u001b[0mclass_path\u001b[0m\u001b[0;34m)\u001b[0m\u001b[0;34m:\u001b[0m\u001b[0;34m\u001b[0m\u001b[0;34m\u001b[0m\u001b[0m\n\u001b[0m\u001b[1;32m     23\u001b[0m         \u001b[0mimg_path\u001b[0m \u001b[0;34m=\u001b[0m \u001b[0mos\u001b[0m\u001b[0;34m.\u001b[0m\u001b[0mpath\u001b[0m\u001b[0;34m.\u001b[0m\u001b[0mjoin\u001b[0m\u001b[0;34m(\u001b[0m\u001b[0mclass_path\u001b[0m\u001b[0;34m,\u001b[0m \u001b[0mimg_name\u001b[0m\u001b[0;34m)\u001b[0m\u001b[0;34m\u001b[0m\u001b[0;34m\u001b[0m\u001b[0m\n\u001b[1;32m     24\u001b[0m \u001b[0;34m\u001b[0m\u001b[0m\n",
            "\u001b[0;31mFileNotFoundError\u001b[0m: [Errno 2] No such file or directory: '/content/drive/MyDrive/sugarcane RA/Healthy'"
          ]
        }
      ],
      "source": [
        "import os\n",
        "import numpy as np\n",
        "import cv2\n",
        "from sklearn.model_selection import train_test_split\n",
        "\n",
        "# Set the path to your dataset directory\n",
        "data_dir = \"/content/drive/MyDrive/sugarcane RA\"\n",
        "\n",
        "# List of classes (assuming you have two classes: \"healthy\" and \"unhealthy\")\n",
        "classes = [\"/content/drive/MyDrive/sugarcane RA/Healthy\", \"/content/drive/MyDrive/sugarcane RA/Unhealthy\"]\n",
        "\n",
        "# Initialize lists to store images and corresponding labels\n",
        "images = []\n",
        "labels = []\n",
        "\n",
        "# Loop through each class folder\n",
        "for class_name in classes:\n",
        "    class_path = os.path.join(data_dir, class_name)\n",
        "    class_label = classes.index(class_name)\n",
        "\n",
        "    # Loop through images in the class folder\n",
        "    for img_name in os.listdir(class_path):\n",
        "        img_path = os.path.join(class_path, img_name)\n",
        "\n",
        "        # Read the image using OpenCV and resize it to a fixed size (e.g., 224x224 for InceptionV3)\n",
        "        img = cv2.imread(img_path)\n",
        "        img = cv2.resize(img, (224, 224))\n",
        "\n",
        "        # Append the image and its label to the lists\n",
        "        images.append(img)\n",
        "        labels.append(class_label)\n",
        "\n",
        "# Convert the lists to numpy arrays\n",
        "images = np.array(images)\n",
        "labels = np.array(labels)\n",
        "\n",
        "# Split the data into training and testing sets\n",
        "train_images, test_images, train_labels, test_labels = train_test_split(images, labels, test_size=0.2, random_state=42)\n",
        "\n",
        "# Normalize the pixel values to a range of [0, 1]\n",
        "train_images = train_images.astype(\"float32\") / 255.0\n",
        "test_images = test_images.astype(\"float32\") / 255.0\n"
      ]
    },
    {
      "cell_type": "code",
      "execution_count": null,
      "metadata": {
        "id": "h2tupxiXZyVL"
      },
      "outputs": [],
      "source": [
        "import numpy as np\n",
        "import tensorflow as tf\n",
        "from tensorflow.keras.applications import InceptionV3\n",
        "from tensorflow.keras.models import Model\n",
        "from tensorflow.keras.layers import GlobalAveragePooling2D\n",
        "\n",
        "# Load the pre-trained InceptionV3 model without the top classification layers\n",
        "base_model = InceptionV3(weights='imagenet', include_top=False, input_shape=(224, 224, 3))\n",
        "\n",
        "# Add a global average pooling layer to reduce the dimensionality of the feature maps\n",
        "x = base_model.output\n",
        "x = GlobalAveragePooling2D()(x)\n",
        "\n",
        "# Create a new model that outputs the feature vectors\n",
        "feature_extraction_model = Model(inputs=base_model.input, outputs=x)\n",
        "\n",
        "# Function to extract features from a set of images\n",
        "def extract_features(images):\n",
        "    # Preprocess the images to match the format used during training the InceptionV3 model\n",
        "    preprocessed_images = tf.keras.applications.inception_v3.preprocess_input(images)\n",
        "\n",
        "    # Extract features using the feature_extraction_model\n",
        "    features = feature_extraction_model.predict(preprocessed_images)\n",
        "    return features\n",
        "\n",
        "# Example usage:\n",
        "# Replace 'train_images' and 'test_images' with your actual training and testing image datasets\n",
        "train_features = extract_features(train_images)\n",
        "test_features = extract_features(test_images)\n"
      ]
    },
    {
      "cell_type": "code",
      "execution_count": null,
      "metadata": {
        "id": "8B__ugx8chJZ"
      },
      "outputs": [],
      "source": [
        "from sklearn.ensemble import RandomForestClassifier\n",
        "from sklearn.metrics import accuracy_score, classification_report, confusion_matrix\n",
        "\n",
        "# Prepare the data for Random Forest\n",
        "train_features_flattened = train_features.reshape(train_features.shape[0], -1)\n",
        "test_features_flattened = test_features.reshape(test_features.shape[0], -1)\n",
        "\n",
        "# Initialize the Random Forest classifier\n",
        "rf_classifier = RandomForestClassifier(n_estimators=100, random_state=42)\n",
        "\n",
        "# Train the Random Forest classifier\n",
        "rf_classifier.fit(train_features_flattened, train_labels)\n",
        "\n",
        "# Make predictions on the training set\n",
        "train_predictions = rf_classifier.predict(train_features_flattened)\n",
        "\n",
        "\n",
        "# Calculate the training accuracy\n",
        "train_accuracy = accuracy_score(train_labels, train_predictions)\n",
        "print(\"Training Accuracy:\", train_accuracy)\n",
        "\n",
        "# Make predictions on the test set\n",
        "predictions = rf_classifier.predict(test_features_flattened)\n",
        "\n",
        "# Evaluate the Random Forest model\n",
        "accuracy = accuracy_score(test_labels, predictions)\n",
        "print(\"Testing Accuracy:\", accuracy)\n",
        "\n",
        "print(\"Classification Report:\")\n",
        "print(classification_report(test_labels, predictions))\n",
        "\n",
        "print(\"Confusion Matrix:\")\n",
        "print(confusion_matrix(test_labels, predictions))\n"
      ]
    },
    {
      "cell_type": "code",
      "execution_count": null,
      "metadata": {
        "id": "SWhLrHsmcr2Q"
      },
      "outputs": [],
      "source": [
        "from sklearn.ensemble import RandomForestClassifier\n",
        "from sklearn.metrics import accuracy_score\n",
        "from sklearn.model_selection import GridSearchCV\n",
        "\n",
        "# Assuming you have prepared train_features_flattened, train_labels, test_features_flattened, and test_labels from Step 2\n",
        "# If not, replace them with the actual training and testing data\n",
        "\n",
        "# Initialize the Random Forest classifier\n",
        "rf_classifier = RandomForestClassifier(random_state=42)\n",
        "\n",
        "# Set up the parameter grid for hyperparameter tuning\n",
        "param_grid = {\n",
        "    'n_estimators': [50, 100, 150],\n",
        "    'max_depth': [None, 10, 20, 30],\n",
        "    'min_samples_split': [2, 5, 10],\n",
        "    'min_samples_leaf': [1, 2, 4]\n",
        "}\n",
        "\n",
        "# Create GridSearchCV to find the best hyperparameters\n",
        "grid_search = GridSearchCV(estimator=rf_classifier, param_grid=param_grid, cv=5, n_jobs=-1, verbose=2)\n",
        "\n",
        "# Train the Random Forest classifier with hyperparameter tuning\n",
        "grid_search.fit(train_features_flattened, train_labels)\n",
        "\n",
        "# Get the best hyperparameters found during the search\n",
        "best_params = grid_search.best_params_\n",
        "print(\"Best Hyperparameters:\", best_params)\n",
        "\n",
        "# Train the Random Forest classifier with the best hyperparameters\n",
        "best_rf_classifier = RandomForestClassifier(**best_params, random_state=42)\n",
        "best_rf_classifier.fit(train_features_flattened, train_labels)\n",
        "\n",
        "# Make predictions on the training set\n",
        "train_predictions = best_rf_classifier.predict(train_features_flattened)\n",
        "\n",
        "# Calculate the training accuracy\n",
        "train_accuracy = accuracy_score(train_labels, train_predictions)\n",
        "print(\"Training Accuracy with Best Hyperparameters:\", train_accuracy)\n",
        "\n",
        "# Make predictions on the test set\n",
        "test_predictions = best_rf_classifier.predict(test_features_flattened)\n",
        "\n",
        "# Calculate the testing accuracy\n",
        "test_accuracy = accuracy_score(test_labels, test_predictions)\n",
        "print(\"Testing Accuracy with Best Hyperparameters:\", test_accuracy)"
      ]
    },
    {
      "cell_type": "code",
      "execution_count": null,
      "metadata": {
        "id": "3QB8y1O3dj4o"
      },
      "outputs": [],
      "source": [
        "import cv2\n",
        "import numpy as np\n",
        "\n",
        "# Function to load and preprocess a single image\n",
        "def load_and_preprocess_image(image_path):\n",
        "    try:\n",
        "        img = cv2.imread(image_path)\n",
        "        if img is None:\n",
        "            raise ValueError(f\"Error: Unable to read the image at '{image_path}'.\")\n",
        "        img = cv2.resize(img, (224, 224))\n",
        "        img = img.astype(\"float32\") / 255.0\n",
        "        img = np.expand_dims(img, axis=0)  # Add batch dimension\n",
        "        return img\n",
        "    except Exception as e:\n",
        "        print(\"Error occurred:\", str(e))\n",
        "        return None\n",
        "\n",
        "# Example usage:\n",
        "# Replace 'image_path' with the path to your new MRI image\n",
        "image_path = \"/content/drive/MyDrive/sugarcane RA/Healthy/S_H (10).jpg\"\n",
        "new_image = load_and_preprocess_image(image_path)\n",
        "\n",
        "# Check if the image was loaded and preprocessed successfully\n",
        "if new_image is not None:\n",
        "    # Predict using the best trained Random Forest model\n",
        "    best_rf_classifier = RandomForestClassifier(**best_params, random_state=42)\n",
        "    best_rf_classifier.fit(train_features_flattened, train_labels)\n",
        "\n",
        "    # Extract features from the new image using the feature_extraction_model (defined in Step 2)\n",
        "    new_image_features = extract_features(new_image)\n",
        "    new_image_features_flattened = new_image_features.reshape(new_image_features.shape[0], -1)\n",
        "\n",
        "    # Make prediction on the new image\n",
        "    prediction = best_rf_classifier.predict(new_image_features_flattened)\n",
        "\n",
        "    # Map the prediction index to the corresponding class label\n",
        "    classes = [\"Healthy\", \"Unhealthy\"]\n",
        "    predicted_class = classes[prediction[0]]\n",
        "\n",
        "    print(\"Predicted class:\", predicted_class)"
      ]
    },
    {
      "cell_type": "code",
      "execution_count": null,
      "metadata": {
        "id": "ghu-Y1T9eD0J"
      },
      "outputs": [],
      "source": [
        "import matplotlib.pyplot as plt\n",
        "\n",
        "# Assuming you have trained the Random Forest model and evaluated it on the test set (Step 3)\n",
        "# Replace these variables with the actual accuracy values from your evaluation\n",
        "train_accuracy = 1.0  # Replace with your training accuracy\n",
        "test_accuracy = 0.783333333333333333  # Replace with your testing accuracy\n",
        "\n",
        "# Create data for the accuracy graph\n",
        "stages = ['Training', 'Testing']\n",
        "accuracies = [train_accuracy, test_accuracy]\n",
        "\n",
        "# Plot the accuracy graph\n",
        "plt.figure(figsize=(8, 6))\n",
        "plt.bar(stages, accuracies, color=['blue', 'green'])\n",
        "plt.xlabel('Stages')\n",
        "plt.ylabel('Accuracy')\n",
        "plt.ylim(0.0, 1.0)\n",
        "plt.title('Accuracy at Different Stages')\n",
        "plt.grid(axis='y', linestyle='--', alpha=0.7)\n",
        "plt.show()"
      ]
    },
    {
      "cell_type": "code",
      "execution_count": null,
      "metadata": {
        "id": "8Rt5aYiFemOu"
      },
      "outputs": [],
      "source": [
        "import joblib\n",
        "from tensorflow.keras.models import save_model\n",
        "\n",
        "# Assuming you've already trained and have the trained Random Forest model (rf_classifier) and the feature_extraction_model (defined in Step 2)\n",
        "\n",
        "# Save the trained Random Forest model\n",
        "rf_model_filename = \"random_forest_model2.joblib\"\n",
        "joblib.dump(rf_classifier, rf_model_filename)\n",
        "print(f\"Random Forest model saved as {rf_model_filename}\")\n",
        "\n",
        "# Save the feature extraction model (InceptionV3)\n",
        "inceptionv3_model_filename = \"inceptionv3_feature_extraction_model2.h5\"\n",
        "feature_extraction_model.save(inceptionv3_model_filename)\n",
        "print(f\"InceptionV3 feature extraction model saved as {inceptionv3_model_filename}\")"
      ]
    }
  ],
  "metadata": {
    "colab": {
      "provenance": [],
      "include_colab_link": true
    },
    "kernelspec": {
      "display_name": "Python 3",
      "name": "python3"
    },
    "language_info": {
      "name": "python"
    }
  },
  "nbformat": 4,
  "nbformat_minor": 0
}