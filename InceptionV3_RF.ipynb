{
  "cells": [
    {
      "cell_type": "markdown",
      "metadata": {
        "id": "view-in-github",
        "colab_type": "text"
      },
      "source": [
        "<a href=\"https://colab.research.google.com/github/Abu-shanto/Machine-Learning-/blob/main/InceptionV3_RF.ipynb\" target=\"_parent\"><img src=\"https://colab.research.google.com/assets/colab-badge.svg\" alt=\"Open In Colab\"/></a>"
      ]
    },
    {
      "cell_type": "code",
      "source": [
        "from google.colab import drive\n",
        "drive.mount('/content/drive/')"
      ],
      "metadata": {
        "id": "Bmu3tACbOghx",
        "outputId": "c21e099d-e421-4f60-8153-ed474acc6bad",
        "colab": {
          "base_uri": "https://localhost:8080/"
        }
      },
      "execution_count": null,
      "outputs": [
        {
          "output_type": "stream",
          "name": "stdout",
          "text": [
            "Mounted at /content/drive/\n"
          ]
        }
      ]
    },
    {
      "cell_type": "code",
      "source": [
        "import os\n",
        "import numpy as np\n",
        "import cv2\n",
        "from sklearn.model_selection import train_test_split\n",
        "\n",
        "# Set the path to your dataset directory\n",
        "data_dir = \"/content/drive/MyDrive/brain_tumor_dataset train\"\n",
        "\n",
        "# List of classes (assuming you have two classes: \"tumor\" and \"non-tumor\")\n",
        "classes = [\"/content/drive/MyDrive/brain_tumor_dataset train/yes\", \"/content/drive/MyDrive/brain_tumor_dataset train/no\"]\n",
        "\n",
        "# Initialize lists to store images and corresponding labels\n",
        "images = []\n",
        "labels = []\n",
        "\n",
        "# Loop through each class folder\n",
        "for class_name in classes:\n",
        "    class_path = os.path.join(data_dir, class_name)\n",
        "    class_label = classes.index(class_name)\n",
        "\n",
        "    # Loop through images in the class folder\n",
        "    for img_name in os.listdir(class_path):\n",
        "        img_path = os.path.join(class_path, img_name)\n",
        "\n",
        "        # Read the image using OpenCV and resize it to a fixed size (e.g., 224x224 for InceptionV3)\n",
        "        img = cv2.imread(img_path)\n",
        "        img = cv2.resize(img, (224, 224))\n",
        "\n",
        "        # Append the image and its label to the lists\n",
        "        images.append(img)\n",
        "        labels.append(class_label)\n",
        "\n",
        "# Convert the lists to numpy arrays\n",
        "images = np.array(images)\n",
        "labels = np.array(labels)\n",
        "\n",
        "# Split the data into training and testing sets\n",
        "train_images, test_images, train_labels, test_labels = train_test_split(images, labels, test_size=0.2, random_state=42)\n",
        "\n",
        "# Normalize the pixel values to a range of [0, 1]\n",
        "train_images = train_images.astype(\"float32\") / 255.0\n",
        "test_images = test_images.astype(\"float32\") / 255.0\n"
      ],
      "metadata": {
        "id": "EVNEXkAbp_m5"
      },
      "execution_count": null,
      "outputs": []
    },
    {
      "cell_type": "code",
      "source": [
        "import numpy as np\n",
        "import tensorflow as tf\n",
        "from tensorflow.keras.applications import InceptionV3\n",
        "from tensorflow.keras.models import Model\n",
        "from tensorflow.keras.layers import GlobalAveragePooling2D\n",
        "\n",
        "# Load the pre-trained InceptionV3 model without the top classification layers\n",
        "base_model = InceptionV3(weights='imagenet', include_top=False, input_shape=(224, 224, 3))\n",
        "\n",
        "# Add a global average pooling layer to reduce the dimensionality of the feature maps\n",
        "x = base_model.output\n",
        "x = GlobalAveragePooling2D()(x)\n",
        "\n",
        "# Create a new model that outputs the feature vectors\n",
        "feature_extraction_model = Model(inputs=base_model.input, outputs=x)\n",
        "\n",
        "# Function to extract features from a set of images\n",
        "def extract_features(images):\n",
        "    # Preprocess the images to match the format used during training the InceptionV3 model\n",
        "    preprocessed_images = tf.keras.applications.inception_v3.preprocess_input(images)\n",
        "\n",
        "    # Extract features using the feature_extraction_model\n",
        "    features = feature_extraction_model.predict(preprocessed_images)\n",
        "    return features\n",
        "\n",
        "# Example usage:\n",
        "# Replace 'train_images' and 'test_images' with your actual training and testing image datasets\n",
        "train_features = extract_features(train_images)\n",
        "test_features = extract_features(test_images)\n"
      ],
      "metadata": {
        "id": "A4QVeeQZqm5X",
        "outputId": "7897cd8e-670c-496e-8690-cc44238f0eb1",
        "colab": {
          "base_uri": "https://localhost:8080/"
        }
      },
      "execution_count": null,
      "outputs": [
        {
          "output_type": "stream",
          "name": "stdout",
          "text": [
            "Downloading data from https://storage.googleapis.com/tensorflow/keras-applications/inception_v3/inception_v3_weights_tf_dim_ordering_tf_kernels_notop.h5\n",
            "87910968/87910968 [==============================] - 1s 0us/step\n",
            "7/7 [==============================] - 29s 4s/step\n",
            "2/2 [==============================] - 7s 4s/step\n"
          ]
        }
      ]
    },
    {
      "cell_type": "code",
      "source": [
        "from sklearn.ensemble import RandomForestClassifier\n",
        "from sklearn.metrics import accuracy_score\n",
        "\n",
        "# Assuming you have prepared train_features_flattened, train_labels, test_features_flattened, and test_labels from Step 2\n",
        "# If not, replace them with the actual training and testing data\n",
        "\n",
        "# Initialize the Random Forest classifier\n",
        "rf_classifier = RandomForestClassifier(n_estimators=100, random_state=42)\n",
        "\n",
        "# Train the Random Forest classifier\n",
        "rf_classifier.fit(train_features_flattened, train_labels)\n",
        "\n",
        "# Make predictions on the training set\n",
        "train_predictions = rf_classifier.predict(train_features_flattened)\n",
        "\n",
        "# Calculate the training accuracy\n",
        "train_accuracy = accuracy_score(train_labels, train_predictions)\n",
        "print(\"Training Accuracy:\", train_accuracy)\n",
        "\n",
        "# Make predictions on the test set\n",
        "test_predictions = rf_classifier.predict(test_features_flattened)\n",
        "\n",
        "# Calculate the testing accuracy\n",
        "test_accuracy = accuracy_score(test_labels, test_predictions)\n",
        "print(\"Testing Accuracy:\", test_accuracy)\n",
        "\n"
      ],
      "metadata": {
        "id": "5aB30pTYq8U5",
        "outputId": "6e99be0d-f2c2-4da2-8224-afbb61231077",
        "colab": {
          "base_uri": "https://localhost:8080/"
        }
      },
      "execution_count": null,
      "outputs": [
        {
          "output_type": "stream",
          "name": "stdout",
          "text": [
            "Training Accuracy: 1.0\n",
            "Testing Accuracy: 0.8235294117647058\n"
          ]
        }
      ]
    },
    {
      "cell_type": "code",
      "source": [
        "from sklearn.ensemble import RandomForestClassifier\n",
        "from sklearn.metrics import accuracy_score\n",
        "from sklearn.model_selection import GridSearchCV\n",
        "\n",
        "# Assuming you have prepared train_features_flattened, train_labels, test_features_flattened, and test_labels from Step 2\n",
        "# If not, replace them with the actual training and testing data\n",
        "\n",
        "# Initialize the Random Forest classifier\n",
        "rf_classifier = RandomForestClassifier(random_state=42)\n",
        "\n",
        "# Set up the parameter grid for hyperparameter tuning\n",
        "param_grid = {\n",
        "    'n_estimators': [50, 100, 150],\n",
        "    'max_depth': [None, 10, 20, 30],\n",
        "    'min_samples_split': [2, 5, 10],\n",
        "    'min_samples_leaf': [1, 2, 4]\n",
        "}\n",
        "\n",
        "# Create GridSearchCV to find the best hyperparameters\n",
        "grid_search = GridSearchCV(estimator=rf_classifier, param_grid=param_grid, cv=5, n_jobs=-1, verbose=2)\n",
        "\n",
        "# Train the Random Forest classifier with hyperparameter tuning\n",
        "grid_search.fit(train_features_flattened, train_labels)\n",
        "\n",
        "# Get the best hyperparameters found during the search\n",
        "best_params = grid_search.best_params_\n",
        "print(\"Best Hyperparameters:\", best_params)\n",
        "\n",
        "# Train the Random Forest classifier with the best hyperparameters\n",
        "best_rf_classifier = RandomForestClassifier(**best_params, random_state=42)\n",
        "best_rf_classifier.fit(train_features_flattened, train_labels)\n",
        "\n",
        "# Make predictions on the training set\n",
        "train_predictions = best_rf_classifier.predict(train_features_flattened)\n",
        "\n",
        "# Calculate the training accuracy\n",
        "train_accuracy = accuracy_score(train_labels, train_predictions)\n",
        "print(\"Training Accuracy with Best Hyperparameters:\", train_accuracy)\n",
        "\n",
        "# Make predictions on the test set\n",
        "test_predictions = best_rf_classifier.predict(test_features_flattened)\n",
        "\n",
        "# Calculate the testing accuracy\n",
        "test_accuracy = accuracy_score(test_labels, test_predictions)\n",
        "print(\"Testing Accuracy with Best Hyperparameters:\", test_accuracy)\n",
        "\n",
        "\n"
      ],
      "metadata": {
        "id": "Jd4jF7swrDWm",
        "outputId": "dc57dc68-b3ee-4e44-c1b1-4e37d0be741d",
        "colab": {
          "base_uri": "https://localhost:8080/"
        }
      },
      "execution_count": null,
      "outputs": [
        {
          "output_type": "stream",
          "name": "stdout",
          "text": [
            "Fitting 5 folds for each of 108 candidates, totalling 540 fits\n",
            "Best Hyperparameters: {'max_depth': None, 'min_samples_leaf': 4, 'min_samples_split': 10, 'n_estimators': 50}\n",
            "Training Accuracy with Best Hyperparameters: 0.9603960396039604\n",
            "Testing Accuracy with Best Hyperparameters: 0.8235294117647058\n"
          ]
        }
      ]
    },
    {
      "cell_type": "code",
      "source": [
        "import cv2\n",
        "import numpy as np\n",
        "\n",
        "# Function to load and preprocess a single image\n",
        "def load_and_preprocess_image(image_path):\n",
        "    try:\n",
        "        img = cv2.imread(image_path)\n",
        "        if img is None:\n",
        "            raise ValueError(f\"Error: Unable to read the image at '{image_path}'.\")\n",
        "        img = cv2.resize(img, (224, 224))\n",
        "        img = img.astype(\"float32\") / 255.0\n",
        "        img = np.expand_dims(img, axis=0)  # Add batch dimension\n",
        "        return img\n",
        "    except Exception as e:\n",
        "        print(\"Error occurred:\", str(e))\n",
        "        return None\n",
        "\n",
        "# Example usage:\n",
        "# Replace 'image_path' with the path to your new MRI image\n",
        "image_path = \"/content/drive/MyDrive/brain tumor dataset test/no/40 no.jpg\"\n",
        "new_image = load_and_preprocess_image(image_path)\n",
        "\n",
        "# Check if the image was loaded and preprocessed successfully\n",
        "if new_image is not None:\n",
        "    # Predict using the best trained Random Forest model\n",
        "    best_rf_classifier = RandomForestClassifier(**best_params, random_state=42)\n",
        "    best_rf_classifier.fit(train_features_flattened, train_labels)\n",
        "\n",
        "    # Extract features from the new image using the feature_extraction_model (defined in Step 2)\n",
        "    new_image_features = extract_features(new_image)\n",
        "    new_image_features_flattened = new_image_features.reshape(new_image_features.shape[0], -1)\n",
        "\n",
        "    # Make prediction on the new image\n",
        "    prediction = best_rf_classifier.predict(new_image_features_flattened)\n",
        "\n",
        "    # Map the prediction index to the corresponding class label\n",
        "    classes = [\"tumor\", \"non-tumor\"]\n",
        "    predicted_class = classes[prediction[0]]\n",
        "\n",
        "    print(\"Predicted class:\", predicted_class)\n"
      ],
      "metadata": {
        "id": "_DwZLv0NrP1t",
        "outputId": "33b4dc2a-b027-48d8-bd82-6e1adbce5842",
        "colab": {
          "base_uri": "https://localhost:8080/"
        }
      },
      "execution_count": null,
      "outputs": [
        {
          "output_type": "stream",
          "name": "stdout",
          "text": [
            "1/1 [==============================] - 0s 315ms/step\n",
            "Predicted class: non-tumor\n"
          ]
        }
      ]
    },
    {
      "cell_type": "code",
      "source": [
        "import matplotlib.pyplot as plt\n",
        "\n",
        "# Assuming you have trained the Random Forest model and evaluated it on the test set (Step 3)\n",
        "# Replace these variables with the actual accuracy values from your evaluation\n",
        "train_accuracy = 0.9603960396039604  # Replace with your training accuracy\n",
        "test_accuracy = 0.8235294117647058   # Replace with your testing accuracy\n",
        "\n",
        "# Create data for the accuracy graph\n",
        "stages = ['Training', 'Testing']\n",
        "accuracies = [train_accuracy, test_accuracy]\n",
        "\n",
        "# Plot the accuracy graph\n",
        "plt.figure(figsize=(8, 6))\n",
        "plt.bar(stages, accuracies, color=['blue', 'green'])\n",
        "plt.xlabel('Stages')\n",
        "plt.ylabel('Accuracy')\n",
        "plt.ylim(0.0, 1.0)\n",
        "plt.title('Accuracy at Different Stages')\n",
        "plt.grid(axis='y', linestyle='--', alpha=0.7)\n",
        "plt.show()\n"
      ],
      "metadata": {
        "id": "vLC6MXCHuCS9",
        "outputId": "b8838c6e-2f1c-4715-b15d-912de6f372e1",
        "colab": {
          "base_uri": "https://localhost:8080/",
          "height": 564
        }
      },
      "execution_count": null,
      "outputs": [
        {
          "output_type": "display_data",
          "data": {
            "text/plain": [
              "<Figure size 800x600 with 1 Axes>"
            ],
            "image/png": "[encoded data removed]"
          },
          "metadata": {}
        }
      ]
    },
    {
      "cell_type": "code",
      "source": [
        "import joblib\n",
        "from tensorflow.keras.models import save_model\n",
        "\n",
        "# Assuming you've already trained and have the trained Random Forest model (rf_classifier) and the feature_extraction_model (defined in Step 2)\n",
        "\n",
        "# Save the trained Random Forest model\n",
        "rf_model_filename = \"random_forest_model.joblib\"\n",
        "joblib.dump(rf_classifier, rf_model_filename)\n",
        "print(f\"Random Forest model saved as {rf_model_filename}\")\n",
        "\n",
        "# Save the feature extraction model (InceptionV3)\n",
        "inceptionv3_model_filename = \"inceptionv3_feature_extraction_model.h5\"\n",
        "feature_extraction_model.save(inceptionv3_model_filename)\n",
        "print(f\"InceptionV3 feature extraction model saved as {inceptionv3_model_filename}\")\n"
      ],
      "metadata": {
        "id": "YJKOCqSmuSu4",
        "outputId": "6b5e516e-f153-4773-d401-fa991a662a72",
        "colab": {
          "base_uri": "https://localhost:8080/"
        }
      },
      "execution_count": null,
      "outputs": [
        {
          "output_type": "stream",
          "name": "stderr",
          "text": [
            "WARNING:tensorflow:Compiled the loaded model, but the compiled metrics have yet to be built. `model.compile_metrics` will be empty until you train or evaluate the model.\n"
          ]
        },
        {
          "output_type": "stream",
          "name": "stdout",
          "text": [
            "Random Forest model saved as random_forest_model.joblib\n",
            "InceptionV3 feature extraction model saved as inceptionv3_feature_extraction_model.h5\n"
          ]
        }
      ]
    },
    {
      "cell_type": "code",
      "source": [
        "import joblib\n",
        "from tensorflow.keras.models import load_model\n",
        "\n",
        "# Load the Random Forest model\n",
        "loaded_rf_model = joblib.load(\"random_forest_model.joblib\")\n",
        "\n",
        "# Load the feature extraction model (InceptionV3)\n",
        "loaded_inceptionv3_model = load_model(\"inceptionv3_feature_extraction_model.h5\")\n",
        "\n",
        "# Now you can use the loaded models for prediction, just like before (Step 5)\n",
        "# For example, load a new MRI image, preprocess it, extract features, and then make predictions using the loaded models.\n"
      ],
      "metadata": {
        "id": "KFEmwqxKucIt",
        "outputId": "bc27e591-4c6f-4597-ce20-a1854e8e18c1",
        "colab": {
          "base_uri": "https://localhost:8080/"
        }
      },
      "execution_count": null,
      "outputs": [
        {
          "output_type": "stream",
          "name": "stderr",
          "text": [
            "WARNING:tensorflow:No training configuration found in the save file, so the model was *not* compiled. Compile it manually.\n"
          ]
        }
      ]
    }
  ],
  "metadata": {
    "colab": {
      "provenance": [],
      "include_colab_link": true
    },
    "kernelspec": {
      "display_name": "Python 3",
      "name": "python3"
    }
  },
  "nbformat": 4,
  "nbformat_minor": 0
}