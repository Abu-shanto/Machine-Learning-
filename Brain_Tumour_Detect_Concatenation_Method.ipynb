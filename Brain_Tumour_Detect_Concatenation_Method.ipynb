{
  "cells": [
    {
      "cell_type": "markdown",
      "metadata": {
        "id": "view-in-github",
        "colab_type": "text"
      },
      "source": [
        "<a href=\"https://colab.research.google.com/github/Abu-shanto/Machine-Learning-/blob/main/Brain_Tumour_Detect_Concatenation_Method.ipynb\" target=\"_parent\"><img src=\"https://colab.research.google.com/assets/colab-badge.svg\" alt=\"Open In Colab\"/></a>"
      ]
    },
    {
      "cell_type": "code",
      "source": [
        "from google.colab import drive\n",
        "drive.mount('/content/drive/')"
      ],
      "metadata": {
        "id": "n_BjHz2CSWWs",
        "outputId": "f1c95fe6-b7d8-48f4-8faa-e895280fc938",
        "colab": {
          "base_uri": "https://localhost:8080/"
        }
      },
      "execution_count": null,
      "outputs": [
        {
          "output_type": "stream",
          "name": "stdout",
          "text": [
            "Mounted at /content/drive/\n"
          ]
        }
      ]
    },
    {
      "cell_type": "code",
      "source": [
        "import os\n",
        "import numpy as np\n",
        "from tensorflow.keras.preprocessing.image import load_img, img_to_array\n",
        "from sklearn.model_selection import train_test_split\n",
        "# Set your data paths\n",
        "train_data_path = '/content/drive/MyDrive/brain_tumor_dataset train'\n",
        "test_data_path = '/content/drive/MyDrive/brain tumor dataset test'\n",
        "\n",
        "# Define image dimensions\n",
        "img_width, img_height = 224, 224  # Adjust to your chosen input size\n",
        "\n",
        "# Load and preprocess images\n",
        "def preprocess_data(data_path):\n",
        "    images = []\n",
        "    labels = []\n",
        "\n",
        "    for folder_name in os.listdir(data_path):\n",
        "        label = folder_name  # Assuming folder names are the labels\n",
        "        folder_path = os.path.join(data_path, folder_name)\n",
        "\n",
        "        for img_name in os.listdir(folder_path):\n",
        "            img_path = os.path.join(folder_path, img_name)\n",
        "            img = load_img(img_path, target_size=(img_width, img_height))\n",
        "            img_array = img_to_array(img)\n",
        "            images.append(img_array)\n",
        "            labels.append(label)\n",
        "\n",
        "    images = np.array(images)\n",
        "    labels = np.array(labels)\n",
        "    return images, labels\n",
        "\n",
        "# Preprocess train and test data\n",
        "train_images, train_labels = preprocess_data(train_data_path)\n",
        "test_images, test_labels = preprocess_data(test_data_path)\n",
        "\n",
        "# Split the data into train and validation sets\n",
        "train_images, val_images, train_labels, val_labels = train_test_split(\n",
        "    train_images, train_labels, test_size=0.2, random_state=42\n",
        ")\n",
        "\n",
        "# Normalize pixel values to [0, 1]\n",
        "train_images = train_images / 255.0\n",
        "val_images = val_images / 255.0\n",
        "test_images = test_images / 255.0\n",
        "\n",
        "print(\"Train data shape:\", train_images.shape)\n",
        "print(\"Validation data shape:\", val_images.shape)\n",
        "print(\"Test data shape:\", test_images.shape)\n"
      ],
      "metadata": {
        "id": "wQ0aspx6dSvX",
        "outputId": "c615566c-70e0-480c-e1ac-47f5e0a3170c",
        "colab": {
          "base_uri": "https://localhost:8080/"
        }
      },
      "execution_count": null,
      "outputs": [
        {
          "output_type": "stream",
          "name": "stdout",
          "text": [
            "Train data shape: (202, 224, 224, 3)\n",
            "Validation data shape: (51, 224, 224, 3)\n",
            "Test data shape: (253, 224, 224, 3)\n"
          ]
        }
      ]
    },
    {
      "cell_type": "code",
      "source": [
        "from tensorflow.keras.applications import InceptionV3, ResNet50\n",
        "from tensorflow.keras.models import Model\n",
        "from tensorflow.keras.layers import GlobalAveragePooling2D\n",
        "import numpy as np\n",
        "\n",
        "# Create models without classification layers\n",
        "base_inception = InceptionV3(weights='imagenet', include_top=False)\n",
        "base_resnet = ResNet50(weights='imagenet', include_top=False)\n",
        "\n",
        "# Global average pooling layer\n",
        "pooling_layer = GlobalAveragePooling2D()\n",
        "\n",
        "# Extract features using InceptionV3 and ResNet50\n",
        "train_features_inception = base_inception.predict(train_images)\n",
        "train_features_resnet = base_resnet.predict(train_images)\n",
        "\n",
        "val_features_inception = base_inception.predict(val_images)\n",
        "val_features_resnet = base_resnet.predict(val_images)\n",
        "\n",
        "test_features_inception = base_inception.predict(test_images)\n",
        "test_features_resnet = base_resnet.predict(test_images)\n",
        "\n",
        "# Apply global average pooling to extracted features\n",
        "train_features_inception = pooling_layer(train_features_inception)\n",
        "train_features_resnet = pooling_layer(train_features_resnet)\n",
        "\n",
        "val_features_inception = pooling_layer(val_features_inception)\n",
        "val_features_resnet = pooling_layer(val_features_resnet)\n",
        "\n",
        "test_features_inception = pooling_layer(test_features_inception)\n",
        "test_features_resnet = pooling_layer(test_features_resnet)\n",
        "\n",
        "# Verify dimensions of the extracted features\n",
        "print(\"InceptionV3 train features shape:\", train_features_inception.shape)\n",
        "print(\"ResNet50 train features shape:\", train_features_resnet.shape)\n",
        "\n",
        "# Continue with Step 3: Concatenate Features"
      ],
      "metadata": {
        "id": "EWJCbQemewUB",
        "outputId": "06a084b8-c21c-42b0-9f96-5309fea984cd",
        "colab": {
          "base_uri": "https://localhost:8080/"
        }
      },
      "execution_count": null,
      "outputs": [
        {
          "output_type": "stream",
          "name": "stdout",
          "text": [
            "7/7 [==============================] - 23s 3s/step\n",
            "7/7 [==============================] - 37s 5s/step\n",
            "2/2 [==============================] - 5s 2s/step\n",
            "2/2 [==============================] - 10s 3s/step\n",
            "8/8 [==============================] - 28s 4s/step\n",
            "8/8 [==============================] - 54s 7s/step\n",
            "InceptionV3 train features shape: (202, 2048)\n",
            "ResNet50 train features shape: (202, 2048)\n"
          ]
        }
      ]
    },
    {
      "cell_type": "code",
      "source": [
        "import numpy as np\n",
        "\n",
        "# Concatenate the features\n",
        "train_concatenated_features = np.concatenate((train_features_inception, train_features_resnet), axis=-1)\n",
        "val_concatenated_features = np.concatenate((val_features_inception, val_features_resnet), axis=-1)\n",
        "test_concatenated_features = np.concatenate((test_features_inception, test_features_resnet), axis=-1)\n",
        "\n",
        "# Verify dimensions of concatenated features\n",
        "print(\"Concatenated train features shape:\", train_concatenated_features.shape)"
      ],
      "metadata": {
        "id": "8OnL-U4afrRg",
        "outputId": "42fd71a3-cfc4-4a46-9556-bea99f35d683",
        "colab": {
          "base_uri": "https://localhost:8080/"
        }
      },
      "execution_count": null,
      "outputs": [
        {
          "output_type": "stream",
          "name": "stdout",
          "text": [
            "Concatenated train features shape: (202, 4096)\n"
          ]
        }
      ]
    },
    {
      "cell_type": "code",
      "source": [
        "from sklearn.svm import SVC\n",
        "from sklearn.metrics import accuracy_score, classification_report\n",
        "\n",
        "# Create an SVM classifier\n",
        "svm_classifier = SVC(kernel='linear', C=1.0, random_state=42)\n",
        "\n",
        "# Train the SVM classifier on the concatenated training features\n",
        "svm_classifier.fit(train_concatenated_features, train_labels)\n",
        "\n",
        "# Predict on the validation and test data\n",
        "val_predictions = svm_classifier.predict(val_concatenated_features)\n",
        "test_predictions = svm_classifier.predict(test_concatenated_features)\n",
        "\n",
        "# Calculate accuracy and other metrics\n",
        "val_accuracy = accuracy_score(val_labels, val_predictions)\n",
        "test_accuracy = accuracy_score(test_labels, test_predictions)\n",
        "\n",
        "print(\"Validation Accuracy:\", val_accuracy)\n",
        "print(\"Test Accuracy:\", test_accuracy)\n",
        "\n",
        "# Generate a classification report\n",
        "print(\"Validation Classification Report:\")\n",
        "print(classification_report(val_labels, val_predictions))\n",
        "\n",
        "print(\"Test Classification Report:\")\n",
        "print(classification_report(test_labels, test_predictions))\n"
      ],
      "metadata": {
        "id": "wnRberhQf6Pq",
        "outputId": "3c69a8fb-8235-48ad-dcc3-e25043c2cc27",
        "colab": {
          "base_uri": "https://localhost:8080/"
        }
      },
      "execution_count": null,
      "outputs": [
        {
          "output_type": "stream",
          "name": "stdout",
          "text": [
            "Validation Accuracy: 0.8627450980392157\n",
            "Test Accuracy: 0.9723320158102767\n",
            "Validation Classification Report:\n",
            "              precision    recall  f1-score   support\n",
            "\n",
            "          no       0.81      0.85      0.83        20\n",
            "         yes       0.90      0.87      0.89        31\n",
            "\n",
            "    accuracy                           0.86        51\n",
            "   macro avg       0.85      0.86      0.86        51\n",
            "weighted avg       0.86      0.86      0.86        51\n",
            "\n",
            "Test Classification Report:\n",
            "              precision    recall  f1-score   support\n",
            "\n",
            "          no       0.96      0.97      0.96        98\n",
            "         yes       0.98      0.97      0.98       155\n",
            "\n",
            "    accuracy                           0.97       253\n",
            "   macro avg       0.97      0.97      0.97       253\n",
            "weighted avg       0.97      0.97      0.97       253\n",
            "\n"
          ]
        }
      ]
    },
    {
      "cell_type": "code",
      "source": [
        "import matplotlib.pyplot as plt\n",
        "from sklearn.metrics import precision_score, recall_score, f1_score\n",
        "\n",
        "# Generate an accuracy graph\n",
        "x_labels = ['Validation', 'Test']\n",
        "accuracy_scores = [val_accuracy, test_accuracy]\n",
        "\n",
        "plt.bar(x_labels, accuracy_scores, color=['blue', 'green'])\n",
        "plt.ylim(0, 1)  # Set y-axis limits to [0, 1]\n",
        "plt.ylabel('Accuracy')\n",
        "plt.title('Accuracy Comparison')\n",
        "plt.show()\n",
        "\n",
        "# Calculate precision, recall, and F1-score\n",
        "val_precision = precision_score(val_labels, val_predictions, average='weighted')\n",
        "val_recall = recall_score(val_labels, val_predictions, average='weighted')\n",
        "val_f1 = f1_score(val_labels, val_predictions, average='weighted')\n",
        "\n",
        "test_precision = precision_score(test_labels, test_predictions, average='weighted')\n",
        "test_recall = recall_score(test_labels, test_predictions, average='weighted')\n",
        "test_f1 = f1_score(test_labels, test_predictions, average='weighted')\n",
        "\n",
        "print(\"Validation Precision:\", val_precision)\n",
        "print(\"Validation Recall:\", val_recall)\n",
        "print(\"Validation F1-score:\", val_f1)\n",
        "\n",
        "print(\"Test Precision:\", test_precision)\n",
        "print(\"Test Recall:\", test_recall)\n",
        "print(\"Test F1-score:\", test_f1)\n"
      ],
      "metadata": {
        "id": "4A10LABLgLLC",
        "outputId": "a7ac071f-e517-4f02-f804-c8d105cd99f6",
        "colab": {
          "base_uri": "https://localhost:8080/",
          "height": 556
        }
      },
      "execution_count": null,
      "outputs": [
        {
          "output_type": "display_data",
          "data": {
            "text/plain": [
              "<Figure size 640x480 with 1 Axes>"
            ],
            "image/png": "[encoded data removed]"
          },
          "metadata": {}
        },
        {
          "output_type": "stream",
          "name": "stdout",
          "text": [
            "Validation Precision: 0.8645191409897294\n",
            "Validation Recall: 0.8627450980392157\n",
            "Validation F1-score: 0.8632938981270237\n",
            "Test Precision: 0.9724147174740061\n",
            "Test Recall: 0.9723320158102767\n",
            "Test F1-score: 0.9723574689194485\n"
          ]
        }
      ]
    }
  ],
  "metadata": {
    "colab": {
      "provenance": [],
      "include_colab_link": true
    },
    "kernelspec": {
      "display_name": "Python 3",
      "name": "python3"
    }
  },
  "nbformat": 4,
  "nbformat_minor": 0
}